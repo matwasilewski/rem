{
 "cells": [
  {
   "cell_type": "code",
   "execution_count": 1,
   "id": "atmospheric-stress",
   "metadata": {},
   "outputs": [],
   "source": [
    "import requests\n",
    "import urllib3\n",
    "from bs4 import BeautifulSoup"
   ]
  },
  {
   "cell_type": "code",
   "execution_count": 4,
   "id": "random-commander",
   "metadata": {},
   "outputs": [],
   "source": [
    "URL = \"https://www.otodom.pl/pl/oferta/mieszkanie-w-kamienicy-w-srodmiesciu-ID4dG6i\""
   ]
  },
  {
   "cell_type": "code",
   "execution_count": 5,
   "id": "polished-dollar",
   "metadata": {},
   "outputs": [],
   "source": [
    "page = requests.get(URL)"
   ]
  },
  {
   "cell_type": "code",
   "execution_count": 8,
   "id": "apart-builder",
   "metadata": {},
   "outputs": [],
   "source": [
    "soup = BeautifulSoup(page.content, \"html.parser\")"
   ]
  },
  {
   "cell_type": "code",
   "execution_count": 13,
   "id": "protecting-stone",
   "metadata": {},
   "outputs": [],
   "source": [
    "sc = list(soup.children)"
   ]
  },
  {
   "cell_type": "code",
   "execution_count": 20,
   "id": "proof-leader",
   "metadata": {},
   "outputs": [],
   "source": [
    "soup_c = list(soup.children)[1]"
   ]
  },
  {
   "cell_type": "code",
   "execution_count": 25,
   "id": "associate-witch",
   "metadata": {},
   "outputs": [],
   "source": [
    "soup_body = soup_c.body"
   ]
  },
  {
   "cell_type": "code",
   "execution_count": 30,
   "id": "placed-cornwall",
   "metadata": {},
   "outputs": [],
   "source": [
    "for idx, child in enumerate(soup_body.children):\n",
    "    if \"Forma własności\" in child:\n",
    "        print(idx)"
   ]
  },
  {
   "cell_type": "code",
   "execution_count": 31,
   "id": "signed-latex",
   "metadata": {},
   "outputs": [],
   "source": [
    "forma_filter = {\"aria-label\": \"Powierzchnia\"}"
   ]
  },
  {
   "cell_type": "code",
   "execution_count": 32,
   "id": "operating-orientation",
   "metadata": {},
   "outputs": [],
   "source": [
    "divs = soup.find_all(attrs=forma_filter)\n",
    "\n",
    "nested_div = [floor_size for floor_size in divs[0].children]"
   ]
  },
  {
   "cell_type": "code",
   "execution_count": 33,
   "id": "characteristic-today",
   "metadata": {},
   "outputs": [
    {
     "data": {
      "text/plain": [
       "[<style data-emotion=\"css o4i8bk\">.css-o4i8bk{overflow:hidden;font-weight:400;text-overflow:ellipsis;white-space:nowrap;}</style>,\n",
       " <div class=\"css-o4i8bk ev4i3ak2\" title=\"Powierzchnia\">Powierzchnia<!-- -->:</div>,\n",
       " <style data-emotion=\"css 1ytkscc\">.css-1ytkscc{grid-area:desc;overflow:initial;font-weight:700;text-overflow:initial;white-space:initial;}</style>,\n",
       " <div class=\"css-1ytkscc ev4i3ak0\" title=\"72 m²\">72 m²</div>]"
      ]
     },
     "execution_count": 33,
     "metadata": {},
     "output_type": "execute_result"
    }
   ],
   "source": [
    "nested_div"
   ]
  },
  {
   "cell_type": "code",
   "execution_count": null,
   "id": "nominated-angel",
   "metadata": {},
   "outputs": [],
   "source": [
    "b = \"123\""
   ]
  },
  {
   "cell_type": "code",
   "execution_count": null,
   "id": "anticipated-battlefield",
   "metadata": {},
   "outputs": [],
   "source": [
    "b.split(\".\")"
   ]
  },
  {
   "cell_type": "code",
   "execution_count": null,
   "id": "inclusive-machine",
   "metadata": {},
   "outputs": [],
   "source": [
    "for child in div.children:\n",
    "    print(child)\n",
    "    print(\"\\n\")\n",
    "    for c in child.children:\n",
    "        print(c)"
   ]
  },
  {
   "cell_type": "code",
   "execution_count": null,
   "id": "strong-atmosphere",
   "metadata": {},
   "outputs": [],
   "source": [
    "for div in divs:\n",
    "    print(div)"
   ]
  },
  {
   "cell_type": "code",
   "execution_count": null,
   "id": "expensive-start",
   "metadata": {},
   "outputs": [],
   "source": [
    "forma = divs[0]"
   ]
  },
  {
   "cell_type": "code",
   "execution_count": null,
   "id": "neutral-default",
   "metadata": {},
   "outputs": [],
   "source": [
    "import pandas as pd\n",
    "import numpy as np"
   ]
  },
  {
   "cell_type": "code",
   "execution_count": null,
   "id": "manual-klein",
   "metadata": {},
   "outputs": [],
   "source": [
    "list(forma.descendants)"
   ]
  },
  {
   "cell_type": "code",
   "execution_count": null,
   "id": "searching-pipeline",
   "metadata": {},
   "outputs": [],
   "source": [
    "pandas NaN"
   ]
  },
  {
   "cell_type": "code",
   "execution_count": 46,
   "id": "above-bowling",
   "metadata": {},
   "outputs": [],
   "source": [
    "def _extract_divs(soup, soup_filter, what: str):\n",
    "    divs = soup.find_all(attrs=soup_filter)\n",
    "\n",
    "    if len(divs) > 1:\n",
    "        _log_wrong_number(len(divs), 1, what)\n",
    "        return None\n",
    "    elif len(divs) == 0:\n",
    "        _log_wrong_number(0, 1, what)\n",
    "        return None\n",
    "    nested_div = list(divs[0].children)\n",
    "\n",
    "    return nested_div\n"
   ]
  },
  {
   "cell_type": "code",
   "execution_count": 47,
   "id": "printable-chase",
   "metadata": {},
   "outputs": [],
   "source": [
    "soup_filter = {\"aria-label\": \"Rodzaj zabudowy\"}\n",
    "\n",
    "type_of_building_div = _extract_divs(soup, soup_filter, \"type-of-building\")\n",
    "\n",
    "if not type_of_building_div:\n",
    "    print(\"FUCKUP\")"
   ]
  },
  {
   "cell_type": "code",
   "execution_count": 56,
   "id": "voluntary-collection",
   "metadata": {},
   "outputs": [
    {
     "data": {
      "text/plain": [
       "[<div class=\"css-o4i8bk ev4i3ak2\" title=\"Rodzaj zabudowy\">Rodzaj zabudowy<!-- -->:</div>,\n",
       " <div class=\"css-1ytkscc ev4i3ak0\" title=\"kamienica\">kamienica</div>]"
      ]
     },
     "execution_count": 56,
     "metadata": {},
     "output_type": "execute_result"
    }
   ],
   "source": [
    "type_of_building_div"
   ]
  },
  {
   "cell_type": "code",
   "execution_count": 55,
   "id": "statistical-interaction",
   "metadata": {},
   "outputs": [
    {
     "name": "stdout",
     "output_type": "stream",
     "text": [
      "kamienica\n"
     ]
    }
   ],
   "source": [
    "for d in type_of_building_div[1].descendants:\n",
    "    print(d)"
   ]
  },
  {
   "cell_type": "code",
   "execution_count": 60,
   "id": "powered-ontario",
   "metadata": {},
   "outputs": [
    {
     "name": "stdout",
     "output_type": "stream",
     "text": [
      "<div class=\"css-o4i8bk ev4i3ak2\" title=\"Rodzaj zabudowy\">Rodzaj zabudowy<!-- -->:</div>\n",
      "{'title': 'Rodzaj zabudowy', 'class': ['css-o4i8bk', 'ev4i3ak2']}\n",
      "<div class=\"css-1ytkscc ev4i3ak0\" title=\"kamienica\">kamienica</div>\n",
      "{'title': 'kamienica', 'class': ['css-1ytkscc', 'ev4i3ak0']}\n"
     ]
    }
   ],
   "source": [
    "for child in type_of_building_div:\n",
    "    print(child)\n",
    "    print(child.attrs)"
   ]
  },
  {
   "cell_type": "code",
   "execution_count": 57,
   "id": "stock-immunology",
   "metadata": {},
   "outputs": [],
   "source": [
    "rodzaj = []\n",
    "\n",
    "for child in type_of_building_div:\n",
    "    if child.attrs.get(\"title\") is not None and child.attrs.get(\n",
    "            \"title\") != \"Rodzaj zabudowy\":\n",
    "        rodzaj.append(child.contents)"
   ]
  },
  {
   "cell_type": "code",
   "execution_count": 58,
   "id": "simple-closure",
   "metadata": {},
   "outputs": [
    {
     "data": {
      "text/plain": [
       "[['kamienica']]"
      ]
     },
     "execution_count": 58,
     "metadata": {},
     "output_type": "execute_result"
    }
   ],
   "source": [
    "rodzaj"
   ]
  },
  {
   "cell_type": "code",
   "execution_count": 36,
   "id": "fitted-longer",
   "metadata": {},
   "outputs": [],
   "source": [
    "def get_forma_wlasnosci(soup):\n",
    "    forma_filter = {\"aria-label\": \"Forma własności\"}\n",
    "    divs = soup.find_all(attrs=forma_filter)\n",
    "    if divs == 0:\n",
    "        return \"\"\n",
    "    else:\n",
    "        return divs"
   ]
  },
  {
   "cell_type": "code",
   "execution_count": 38,
   "id": "hydraulic-magnet",
   "metadata": {},
   "outputs": [],
   "source": [
    "div = get_forma_wlasnosci(soup)"
   ]
  },
  {
   "cell_type": "code",
   "execution_count": 44,
   "id": "hollywood-burton",
   "metadata": {},
   "outputs": [
    {
     "data": {
      "text/plain": [
       "[<style data-emotion=\"css o4i8bk\">.css-o4i8bk{overflow:hidden;font-weight:400;text-overflow:ellipsis;white-space:nowrap;}</style>,\n",
       " <div class=\"css-o4i8bk ev4i3ak2\" title=\"Powierzchnia\">Powierzchnia<!-- -->:</div>,\n",
       " <style data-emotion=\"css 1ytkscc\">.css-1ytkscc{grid-area:desc;overflow:initial;font-weight:700;text-overflow:initial;white-space:initial;}</style>,\n",
       " <div class=\"css-1ytkscc ev4i3ak0\" title=\"72 m²\">72 m²</div>]"
      ]
     },
     "execution_count": 44,
     "metadata": {},
     "output_type": "execute_result"
    }
   ],
   "source": [
    "list(divs[0].children)"
   ]
  },
  {
   "cell_type": "code",
   "execution_count": null,
   "id": "dense-jacket",
   "metadata": {},
   "outputs": [],
   "source": [
    "print(forma.prettify())"
   ]
  },
  {
   "cell_type": "code",
   "execution_count": null,
   "id": "great-yahoo",
   "metadata": {},
   "outputs": [],
   "source": [
    "forma.find(\"css-18h1kfv\")"
   ]
  },
  {
   "cell_type": "code",
   "execution_count": null,
   "id": "lined-paintball",
   "metadata": {},
   "outputs": [],
   "source": [
    "print(soup.prettify())"
   ]
  }
 ],
 "metadata": {
  "kernelspec": {
   "display_name": "Python 3",
   "language": "python",
   "name": "python3"
  },
  "language_info": {
   "codemirror_mode": {
    "name": "ipython",
    "version": 3
   },
   "file_extension": ".py",
   "mimetype": "text/x-python",
   "name": "python",
   "nbconvert_exporter": "python",
   "pygments_lexer": "ipython3",
   "version": "3.9.5"
  }
 },
 "nbformat": 4,
 "nbformat_minor": 5
}
